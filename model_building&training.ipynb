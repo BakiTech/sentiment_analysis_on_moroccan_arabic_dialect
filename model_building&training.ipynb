{
 "cells": [
  {
   "cell_type": "markdown",
   "metadata": {},
   "source": [
    "# Loading Data"
   ]
  },
  {
   "cell_type": "code",
   "execution_count": null,
   "metadata": {},
   "outputs": [],
   "source": [
    "import pandas as pd\n",
    "\n",
    "data1 = pd.read_csv( 'data/train.csv')\n",
    "\n",
    "data2 = pd.read_csv( 'data/comments.csv')\n",
    "\n",
    "data = pd.concat( ( data1, data2)).reset_index(drop=True)\n",
    "\n",
    "import sklearn\n",
    "data = sklearn.utils.shuffle( data)\n",
    "\n",
    "data = data.drop_duplicates(subset='comment', keep='first')\n",
    "\n",
    "X = data[ 'comment']\n",
    "y = data[ 'label']"
   ]
  },
  {
   "cell_type": "code",
   "execution_count": null,
   "metadata": {},
   "outputs": [
    {
     "name": "stdout",
     "output_type": "stream",
     "text": [
      "Number of Comments in data: 2682\n"
     ]
    }
   ],
   "source": [
    "print( \"Number of Comments in data:\", X.shape[0])"
   ]
  },
  {
   "cell_type": "markdown",
   "metadata": {},
   "source": [
    "# Data Visualization"
   ]
  },
  {
   "cell_type": "code",
   "execution_count": null,
   "metadata": {},
   "outputs": [
    {
     "data": {
      "text/plain": [
       "<Axes: xlabel='label', ylabel='count'>"
      ]
     },
     "execution_count": 164,
     "metadata": {},
     "output_type": "execute_result"
    },
    {
     "data": {
      "image/png": "[encoded data removed]",
      "text/plain": [
       "<Figure size 640x480 with 1 Axes>"
      ]
     },
     "metadata": {},
     "output_type": "display_data"
    }
   ],
   "source": [
    "import seaborn as sns\n",
    "\n",
    "sns.countplot( x=y)"
   ]
  },
  {
   "cell_type": "markdown",
   "metadata": {},
   "source": [
    "# Spliting Data to Train/Test"
   ]
  },
  {
   "cell_type": "code",
   "execution_count": null,
   "metadata": {},
   "outputs": [],
   "source": [
    "from sklearn.model_selection import train_test_split\n",
    "\n",
    "X_train, X_test, y_train, y_test = train_test_split( X, y, test_size=0.2, random_state=42, stratify = y)"
   ]
  },
  {
   "cell_type": "code",
   "execution_count": null,
   "metadata": {},
   "outputs": [
    {
     "name": "stdout",
     "output_type": "stream",
     "text": [
      "Train size: 2145 \n",
      "Test size: 537\n"
     ]
    }
   ],
   "source": [
    "print( \"Train size:\", X_train.shape[0], '\\nTest size:', X_test.shape[0])"
   ]
  },
  {
   "cell_type": "markdown",
   "metadata": {},
   "source": [
    "# Loading Word2Vec Model"
   ]
  },
  {
   "cell_type": "code",
   "execution_count": null,
   "metadata": {},
   "outputs": [],
   "source": [
    "from gensim.models import Word2Vec\n",
    "\n",
    "w2v_model = Word2Vec.load(\"models/word2vec-arabic.model\")"
   ]
  },
  {
   "cell_type": "markdown",
   "metadata": {},
   "source": [
    "# Intializing HyperParameters"
   ]
  },
  {
   "cell_type": "code",
   "execution_count": null,
   "metadata": {},
   "outputs": [],
   "source": [
    "import numpy as np\n",
    "\n",
    "sentence_lengths = 610\n",
    "\n",
    "max_length = int( np.percentile(sentence_lengths, 95))\n",
    "max_length = 128\n",
    "\n",
    "embedding_dim = w2v_model.vector_size\n",
    "\n",
    "from keras.preprocessing.text import Tokenizer\n",
    "\n",
    "tokenizer = Tokenizer()\n",
    "tokenizer.fit_on_texts( X_train)\n",
    "\n",
    "total_words = len( tokenizer.word_index)"
   ]
  },
  {
   "cell_type": "markdown",
   "metadata": {},
   "source": [
    "# Converting Test to Seuence and then Pad"
   ]
  },
  {
   "cell_type": "code",
   "execution_count": null,
   "metadata": {},
   "outputs": [],
   "source": [
    "from keras.preprocessing.sequence import pad_sequences\n",
    "\n",
    "train_sequences = tokenizer.texts_to_sequences( X_train)\n",
    "train_padded_sequences = pad_sequences(train_sequences, maxlen=max_length, padding='post')\n",
    "\n",
    "\n",
    "test_sequences = tokenizer.texts_to_sequences( X_test)\n",
    "test_padded_sequences = pad_sequences(test_sequences, maxlen=max_length, padding='post')"
   ]
  },
  {
   "cell_type": "markdown",
   "metadata": {},
   "source": [
    "# Defining CallBacks"
   ]
  },
  {
   "cell_type": "code",
   "execution_count": null,
   "metadata": {},
   "outputs": [],
   "source": [
    "from keras.callbacks import EarlyStopping,ReduceLROnPlateau,ModelCheckpoint\n",
    "\n",
    "EarlyStopping = EarlyStopping(monitor='val_loss', \n",
    "                                patience=6, \n",
    "                                restore_best_weights=True)\n",
    "\n",
    "model_save = ModelCheckpoint('best_model.keras',\n",
    "                             save_best_only = True,\n",
    "                             save_weights_only = False,\n",
    "                             monitor = 'val_loss',\n",
    "                             mode = 'min', verbose= 1)\n",
    "\n",
    "rlr = ReduceLROnPlateau( monitor=\"val_accuracy\",\n",
    "                            factor=0.01,\n",
    "                            patience=5,\n",
    "                            verbose=0,\n",
    "                            mode=\"max\",\n",
    "                            min_delta=0.0001)"
   ]
  },
  {
   "cell_type": "markdown",
   "metadata": {},
   "source": [
    "# Initilizing Embedding Metrix"
   ]
  },
  {
   "cell_type": "code",
   "execution_count": null,
   "metadata": {},
   "outputs": [],
   "source": [
    "embedding_matrix = np.zeros((len(tokenizer.word_index) + 1, embedding_dim))\n",
    "\n",
    "for word, i in tokenizer.word_index.items():\n",
    "    if word in w2v_model.wv:\n",
    "        embedding_matrix[i] = w2v_model.wv[word]"
   ]
  },
  {
   "cell_type": "markdown",
   "metadata": {},
   "source": [
    "# Building Model"
   ]
  },
  {
   "cell_type": "code",
   "execution_count": null,
   "metadata": {},
   "outputs": [],
   "source": [
    "from tensorflow.keras.layers import  Embedding, Flatten, Dense, Bidirectional, LSTM\n",
    "from tensorflow.keras import Sequential\n",
    "from tensorflow.keras.optimizers import Adam\n",
    "\n",
    "\n",
    "model = Sequential()\n",
    "\n",
    "model.add( Embedding(total_words+1, embedding_dim, weights=[ embedding_matrix], input_length=max_length, trainable=False),)\n",
    "model.add( Bidirectionamodel.add( LSTM(16)),)\n",
    "model.add( Flatten(),)\n",
    "model.add( BatchNormalization(),)\n",
    "model.add( Dropout(0.50),)\n",
    "model.add( Dense( embedding_dim, activation='relu'),)\n",
    "model.add( BatchNormalization())\n",
    "model.add( Dropout(0.30))\n",
    "model.add( Dense(8,activation='relu'))\n",
    "model.add( Dense(1,activation='sigmoid'))\n",
    "\n",
    "\n",
    "\n",
    "\n",
    "model.compile(loss = 'binary_crossentropy', optimizer = Adam(), metrics = ['accuracy'])"
   ]
  },
  {
   "cell_type": "code",
   "execution_count": 173,
   "metadata": {},
   "outputs": [
    {
     "name": "stdout",
     "output_type": "stream",
     "text": [
      "Shape of embedding_matrix: (17487, 100)\n",
      "Total number of words: 17486\n"
     ]
    }
   ],
   "source": [
    "print(\"Shape of embedding_matrix:\", embedding_matrix.shape)\n",
    "\n",
    "print(\"Total number of words:\", total_words)\n"
   ]
  },
  {
   "cell_type": "markdown",
   "metadata": {},
   "source": [
    "# Visualizing Summary of Model"
   ]
  },
  {
   "cell_type": "code",
   "execution_count": 174,
   "metadata": {},
   "outputs": [
    {
     "name": "stdout",
     "output_type": "stream",
     "text": [
      "Model: \"sequential_13\"\n",
      "_________________________________________________________________\n",
      " Layer (type)                Output Shape              Param #   \n",
      "=================================================================\n",
      " embedding_13 (Embedding)    (None, 610, 100)          1748700   \n",
      "                                                                 \n",
      " dense_31 (Dense)            (None, 610, 128)          12928     \n",
      "                                                                 \n",
      " dense_32 (Dense)            (None, 610, 64)           8256      \n",
      "                                                                 \n",
      " dense_33 (Dense)            (None, 610, 32)           2080      \n",
      "                                                                 \n",
      " dense_34 (Dense)            (None, 610, 1)            33        \n",
      "                                                                 \n",
      "=================================================================\n",
      "Total params: 1771997 (6.76 MB)\n",
      "Trainable params: 1771997 (6.76 MB)\n",
      "Non-trainable params: 0 (0.00 Byte)\n",
      "_________________________________________________________________\n"
     ]
    }
   ],
   "source": [
    "model.summary()"
   ]
  },
  {
   "cell_type": "markdown",
   "metadata": {},
   "source": [
    "# Training the Model"
   ]
  },
  {
   "cell_type": "code",
   "execution_count": 175,
   "metadata": {},
   "outputs": [
    {
     "name": "stdout",
     "output_type": "stream",
     "text": [
      "Epoch 1/100\n"
     ]
    },
    {
     "name": "stdout",
     "output_type": "stream",
     "text": [
      "108/108 [==============================] - ETA: 0s - loss: 0.6932 - accuracy: 0.5252\n",
      "Epoch 1: val_loss improved from inf to 0.69202, saving model to best_model.keras\n",
      "108/108 [==============================] - 9s 63ms/step - loss: 0.6932 - accuracy: 0.5252 - val_loss: 0.6920 - val_accuracy: 0.5300 - lr: 0.0010\n",
      "Epoch 2/100\n",
      "108/108 [==============================] - ETA: 0s - loss: 0.6909 - accuracy: 0.5345\n",
      "Epoch 2: val_loss improved from 0.69202 to 0.69137, saving model to best_model.keras\n",
      "108/108 [==============================] - 5s 48ms/step - loss: 0.6909 - accuracy: 0.5345 - val_loss: 0.6914 - val_accuracy: 0.5316 - lr: 0.0010\n",
      "Epoch 3/100\n",
      "108/108 [==============================] - ETA: 0s - loss: 0.6899 - accuracy: 0.5370\n",
      "Epoch 3: val_loss improved from 0.69137 to 0.69128, saving model to best_model.keras\n",
      "108/108 [==============================] - 6s 60ms/step - loss: 0.6899 - accuracy: 0.5370 - val_loss: 0.6913 - val_accuracy: 0.5329 - lr: 0.0010\n",
      "Epoch 4/100\n",
      "108/108 [==============================] - ETA: 0s - loss: 0.6892 - accuracy: 0.5380\n",
      "Epoch 4: val_loss improved from 0.69128 to 0.69034, saving model to best_model.keras\n",
      "108/108 [==============================] - 7s 64ms/step - loss: 0.6892 - accuracy: 0.5380 - val_loss: 0.6903 - val_accuracy: 0.5342 - lr: 0.0010\n",
      "Epoch 5/100\n",
      "108/108 [==============================] - ETA: 0s - loss: 0.6885 - accuracy: 0.5298\n",
      "Epoch 5: val_loss did not improve from 0.69034\n",
      "108/108 [==============================] - 5s 43ms/step - loss: 0.6885 - accuracy: 0.5298 - val_loss: 0.6905 - val_accuracy: 0.5342 - lr: 0.0010\n",
      "Epoch 6/100\n",
      "107/108 [============================>.] - ETA: 0s - loss: 0.6870 - accuracy: 0.5391\n",
      "Epoch 6: val_loss did not improve from 0.69034\n",
      "108/108 [==============================] - 5s 50ms/step - loss: 0.6871 - accuracy: 0.5385 - val_loss: 0.6904 - val_accuracy: 0.5342 - lr: 0.0010\n",
      "Epoch 7/100\n",
      "108/108 [==============================] - ETA: 0s - loss: 0.6856 - accuracy: 0.5388\n",
      "Epoch 7: val_loss did not improve from 0.69034\n",
      "108/108 [==============================] - 10s 95ms/step - loss: 0.6856 - accuracy: 0.5388 - val_loss: 0.6910 - val_accuracy: 0.5338 - lr: 0.0010\n",
      "Epoch 8/100\n",
      "108/108 [==============================] - ETA: 0s - loss: 0.6852 - accuracy: 0.5389\n",
      "Epoch 8: val_loss did not improve from 0.69034\n",
      "108/108 [==============================] - 11s 100ms/step - loss: 0.6852 - accuracy: 0.5389 - val_loss: 0.6913 - val_accuracy: 0.5343 - lr: 0.0010\n",
      "Epoch 9/100\n",
      "107/108 [============================>.] - ETA: 0s - loss: 0.6846 - accuracy: 0.5397\n",
      "Epoch 9: val_loss did not improve from 0.69034\n",
      "108/108 [==============================] - 10s 96ms/step - loss: 0.6846 - accuracy: 0.5391 - val_loss: 0.6917 - val_accuracy: 0.5343 - lr: 0.0010\n",
      "Epoch 10/100\n",
      "108/108 [==============================] - ETA: 0s - loss: 0.6833 - accuracy: 0.5396\n",
      "Epoch 10: val_loss did not improve from 0.69034\n",
      "108/108 [==============================] - 7s 67ms/step - loss: 0.6833 - accuracy: 0.5396 - val_loss: 0.6916 - val_accuracy: 0.5343 - lr: 1.0000e-05\n"
     ]
    }
   ],
   "source": [
    "history = model.fit( train_padded_sequences, y_train,\n",
    "                       validation_split=0.2,\n",
    "                       epochs = 100,\n",
    "                       batch_size= 16,\n",
    "                       callbacks=[ EarlyStopping, model_save, rlr])"
   ]
  },
  {
   "cell_type": "markdown",
   "metadata": {},
   "source": [
    "# Visualizinf Training Progress"
   ]
  },
  {
   "cell_type": "code",
   "execution_count": 176,
   "metadata": {},
   "outputs": [
    {
     "data": {
      "image/png": "[encoded data removed]",
      "text/plain": [
       "<Figure size 640x480 with 1 Axes>"
      ]
     },
     "metadata": {},
     "output_type": "display_data"
    },
    {
     "data": {
      "image/png": "[encoded data removed]",
      "text/plain": [
       "<Figure size 640x480 with 1 Axes>"
      ]
     },
     "metadata": {},
     "output_type": "display_data"
    }
   ],
   "source": [
    "import matplotlib.pyplot as plt\n",
    "\n",
    "def plot_graphs(model, string):\n",
    "    plt.plot(model.history[string])\n",
    "    plt.plot(model.history['val_'+string])\n",
    "    plt.xlabel(\"Epochs\")\n",
    "    plt.ylabel(string)\n",
    "    plt.legend([string, 'val_'+string])\n",
    "    plt.show()\n",
    "\n",
    "# Plot the accuracy and loss\n",
    "plot_graphs(history, \"accuracy\")\n",
    "plot_graphs(history, \"loss\")"
   ]
  },
  {
   "cell_type": "markdown",
   "metadata": {},
   "source": [
    "# Model performence on Test Data"
   ]
  },
  {
   "cell_type": "code",
   "execution_count": 177,
   "metadata": {},
   "outputs": [
    {
     "name": "stdout",
     "output_type": "stream",
     "text": [
      "17/17 [==============================] - 1s 64ms/step\n"
     ]
    },
    {
     "ename": "ValueError",
     "evalue": "Classification metrics can't handle a mix of binary and unknown targets",
     "output_type": "error",
     "traceback": [
      "\u001b[1;31m---------------------------------------------------------------------------\u001b[0m",
      "\u001b[1;31mValueError\u001b[0m                                Traceback (most recent call last)",
      "Cell \u001b[1;32mIn[177], line 6\u001b[0m\n\u001b[0;32m      2\u001b[0m binary_predictions \u001b[38;5;241m=\u001b[39m ( predicted_test \u001b[38;5;241m>\u001b[39m \u001b[38;5;241m0.5\u001b[39m)\u001b[38;5;241m.\u001b[39mastype(\u001b[38;5;28mint\u001b[39m)\n\u001b[0;32m      4\u001b[0m \u001b[38;5;28;01mfrom\u001b[39;00m \u001b[38;5;21;01msklearn\u001b[39;00m\u001b[38;5;21;01m.\u001b[39;00m\u001b[38;5;21;01mmetrics\u001b[39;00m \u001b[38;5;28;01mimport\u001b[39;00m confusion_matrix\n\u001b[1;32m----> 6\u001b[0m cm \u001b[38;5;241m=\u001b[39m confusion_matrix( y_test, binary_predictions)\n\u001b[0;32m      8\u001b[0m \u001b[38;5;28;01mimport\u001b[39;00m \u001b[38;5;21;01mseaborn\u001b[39;00m \u001b[38;5;28;01mas\u001b[39;00m \u001b[38;5;21;01msns\u001b[39;00m\n\u001b[0;32m      9\u001b[0m \u001b[38;5;28;01mimport\u001b[39;00m \u001b[38;5;21;01mmatplotlib\u001b[39;00m\u001b[38;5;21;01m.\u001b[39;00m\u001b[38;5;21;01mpyplot\u001b[39;00m \u001b[38;5;28;01mas\u001b[39;00m \u001b[38;5;21;01mplt\u001b[39;00m\n",
      "File \u001b[1;32mc:\\Users\\aminb\\anaconda3\\Lib\\site-packages\\sklearn\\utils\\_param_validation.py:211\u001b[0m, in \u001b[0;36mvalidate_params.<locals>.decorator.<locals>.wrapper\u001b[1;34m(*args, **kwargs)\u001b[0m\n\u001b[0;32m    205\u001b[0m \u001b[38;5;28;01mtry\u001b[39;00m:\n\u001b[0;32m    206\u001b[0m     \u001b[38;5;28;01mwith\u001b[39;00m config_context(\n\u001b[0;32m    207\u001b[0m         skip_parameter_validation\u001b[38;5;241m=\u001b[39m(\n\u001b[0;32m    208\u001b[0m             prefer_skip_nested_validation \u001b[38;5;129;01mor\u001b[39;00m global_skip_validation\n\u001b[0;32m    209\u001b[0m         )\n\u001b[0;32m    210\u001b[0m     ):\n\u001b[1;32m--> 211\u001b[0m         \u001b[38;5;28;01mreturn\u001b[39;00m func(\u001b[38;5;241m*\u001b[39margs, \u001b[38;5;241m*\u001b[39m\u001b[38;5;241m*\u001b[39mkwargs)\n\u001b[0;32m    212\u001b[0m \u001b[38;5;28;01mexcept\u001b[39;00m InvalidParameterError \u001b[38;5;28;01mas\u001b[39;00m e:\n\u001b[0;32m    213\u001b[0m     \u001b[38;5;66;03m# When the function is just a wrapper around an estimator, we allow\u001b[39;00m\n\u001b[0;32m    214\u001b[0m     \u001b[38;5;66;03m# the function to delegate validation to the estimator, but we replace\u001b[39;00m\n\u001b[0;32m    215\u001b[0m     \u001b[38;5;66;03m# the name of the estimator by the name of the function in the error\u001b[39;00m\n\u001b[0;32m    216\u001b[0m     \u001b[38;5;66;03m# message to avoid confusion.\u001b[39;00m\n\u001b[0;32m    217\u001b[0m     msg \u001b[38;5;241m=\u001b[39m re\u001b[38;5;241m.\u001b[39msub(\n\u001b[0;32m    218\u001b[0m         \u001b[38;5;124mr\u001b[39m\u001b[38;5;124m\"\u001b[39m\u001b[38;5;124mparameter of \u001b[39m\u001b[38;5;124m\\\u001b[39m\u001b[38;5;124mw+ must be\u001b[39m\u001b[38;5;124m\"\u001b[39m,\n\u001b[0;32m    219\u001b[0m         \u001b[38;5;124mf\u001b[39m\u001b[38;5;124m\"\u001b[39m\u001b[38;5;124mparameter of \u001b[39m\u001b[38;5;132;01m{\u001b[39;00mfunc\u001b[38;5;241m.\u001b[39m\u001b[38;5;18m__qualname__\u001b[39m\u001b[38;5;132;01m}\u001b[39;00m\u001b[38;5;124m must be\u001b[39m\u001b[38;5;124m\"\u001b[39m,\n\u001b[0;32m    220\u001b[0m         \u001b[38;5;28mstr\u001b[39m(e),\n\u001b[0;32m    221\u001b[0m     )\n",
      "File \u001b[1;32mc:\\Users\\aminb\\anaconda3\\Lib\\site-packages\\sklearn\\metrics\\_classification.py:326\u001b[0m, in \u001b[0;36mconfusion_matrix\u001b[1;34m(y_true, y_pred, labels, sample_weight, normalize)\u001b[0m\n\u001b[0;32m    231\u001b[0m \u001b[38;5;129m@validate_params\u001b[39m(\n\u001b[0;32m    232\u001b[0m     {\n\u001b[0;32m    233\u001b[0m         \u001b[38;5;124m\"\u001b[39m\u001b[38;5;124my_true\u001b[39m\u001b[38;5;124m\"\u001b[39m: [\u001b[38;5;124m\"\u001b[39m\u001b[38;5;124marray-like\u001b[39m\u001b[38;5;124m\"\u001b[39m],\n\u001b[1;32m   (...)\u001b[0m\n\u001b[0;32m    242\u001b[0m     y_true, y_pred, \u001b[38;5;241m*\u001b[39m, labels\u001b[38;5;241m=\u001b[39m\u001b[38;5;28;01mNone\u001b[39;00m, sample_weight\u001b[38;5;241m=\u001b[39m\u001b[38;5;28;01mNone\u001b[39;00m, normalize\u001b[38;5;241m=\u001b[39m\u001b[38;5;28;01mNone\u001b[39;00m\n\u001b[0;32m    243\u001b[0m ):\n\u001b[0;32m    244\u001b[0m \u001b[38;5;250m    \u001b[39m\u001b[38;5;124;03m\"\"\"Compute confusion matrix to evaluate the accuracy of a classification.\u001b[39;00m\n\u001b[0;32m    245\u001b[0m \n\u001b[0;32m    246\u001b[0m \u001b[38;5;124;03m    By definition a confusion matrix :math:`C` is such that :math:`C_{i, j}`\u001b[39;00m\n\u001b[1;32m   (...)\u001b[0m\n\u001b[0;32m    324\u001b[0m \u001b[38;5;124;03m    (0, 2, 1, 1)\u001b[39;00m\n\u001b[0;32m    325\u001b[0m \u001b[38;5;124;03m    \"\"\"\u001b[39;00m\n\u001b[1;32m--> 326\u001b[0m     y_type, y_true, y_pred \u001b[38;5;241m=\u001b[39m _check_targets(y_true, y_pred)\n\u001b[0;32m    327\u001b[0m     \u001b[38;5;28;01mif\u001b[39;00m y_type \u001b[38;5;129;01mnot\u001b[39;00m \u001b[38;5;129;01min\u001b[39;00m (\u001b[38;5;124m\"\u001b[39m\u001b[38;5;124mbinary\u001b[39m\u001b[38;5;124m\"\u001b[39m, \u001b[38;5;124m\"\u001b[39m\u001b[38;5;124mmulticlass\u001b[39m\u001b[38;5;124m\"\u001b[39m):\n\u001b[0;32m    328\u001b[0m         \u001b[38;5;28;01mraise\u001b[39;00m \u001b[38;5;167;01mValueError\u001b[39;00m(\u001b[38;5;124m\"\u001b[39m\u001b[38;5;132;01m%s\u001b[39;00m\u001b[38;5;124m is not supported\u001b[39m\u001b[38;5;124m\"\u001b[39m \u001b[38;5;241m%\u001b[39m y_type)\n",
      "File \u001b[1;32mc:\\Users\\aminb\\anaconda3\\Lib\\site-packages\\sklearn\\metrics\\_classification.py:93\u001b[0m, in \u001b[0;36m_check_targets\u001b[1;34m(y_true, y_pred)\u001b[0m\n\u001b[0;32m     90\u001b[0m     y_type \u001b[38;5;241m=\u001b[39m {\u001b[38;5;124m\"\u001b[39m\u001b[38;5;124mmulticlass\u001b[39m\u001b[38;5;124m\"\u001b[39m}\n\u001b[0;32m     92\u001b[0m \u001b[38;5;28;01mif\u001b[39;00m \u001b[38;5;28mlen\u001b[39m(y_type) \u001b[38;5;241m>\u001b[39m \u001b[38;5;241m1\u001b[39m:\n\u001b[1;32m---> 93\u001b[0m     \u001b[38;5;28;01mraise\u001b[39;00m \u001b[38;5;167;01mValueError\u001b[39;00m(\n\u001b[0;32m     94\u001b[0m         \u001b[38;5;124m\"\u001b[39m\u001b[38;5;124mClassification metrics can\u001b[39m\u001b[38;5;124m'\u001b[39m\u001b[38;5;124mt handle a mix of \u001b[39m\u001b[38;5;132;01m{0}\u001b[39;00m\u001b[38;5;124m and \u001b[39m\u001b[38;5;132;01m{1}\u001b[39;00m\u001b[38;5;124m targets\u001b[39m\u001b[38;5;124m\"\u001b[39m\u001b[38;5;241m.\u001b[39mformat(\n\u001b[0;32m     95\u001b[0m             type_true, type_pred\n\u001b[0;32m     96\u001b[0m         )\n\u001b[0;32m     97\u001b[0m     )\n\u001b[0;32m     99\u001b[0m \u001b[38;5;66;03m# We can't have more than one value on y_type => The set is no more needed\u001b[39;00m\n\u001b[0;32m    100\u001b[0m y_type \u001b[38;5;241m=\u001b[39m y_type\u001b[38;5;241m.\u001b[39mpop()\n",
      "\u001b[1;31mValueError\u001b[0m: Classification metrics can't handle a mix of binary and unknown targets"
     ]
    }
   ],
   "source": [
    "predicted_test = model.predict( test_padded_sequences)\n",
    "binary_predictions = ( predicted_test > 0.5).astype(int)\n",
    "\n",
    "from sklearn.metrics import confusion_matrix\n",
    "\n",
    "cm = confusion_matrix( y_test, binary_predictions)\n",
    "\n",
    "import seaborn as sns\n",
    "import matplotlib.pyplot as plt\n",
    "\n",
    "sns.heatmap(cm,\n",
    "            annot=True,\n",
    "            fmt='g')\n",
    "plt.ylabel('Prediction',fontsize=13)\n",
    "plt.xlabel('Réelle',fontsize=13)\n",
    "plt.title('Matrice de confusion',fontsize=17)\n",
    "plt.show()"
   ]
  },
  {
   "cell_type": "code",
   "execution_count": null,
   "metadata": {},
   "outputs": [
    {
     "name": "stdout",
     "output_type": "stream",
     "text": [
      "17/17 [==============================] - 0s 9ms/step - loss: 0.6900 - accuracy: 0.5332\n"
     ]
    },
    {
     "data": {
      "text/plain": [
       "[0.690022885799408, 0.5332173109054565]"
      ]
     },
     "execution_count": 157,
     "metadata": {},
     "output_type": "execute_result"
    }
   ],
   "source": [
    "from tensorflow.keras.models import load_model\n",
    "\n",
    "the_model = load_model('best_model.keras')\n",
    "\n",
    "model.evaluate(  test_padded_sequences, y_test)"
   ]
  }
 ],
 "metadata": {
  "kernelspec": {
   "display_name": "base",
   "language": "python",
   "name": "python3"
  },
  "language_info": {
   "codemirror_mode": {
    "name": "ipython",
    "version": 3
   },
   "file_extension": ".py",
   "mimetype": "text/x-python",
   "name": "python",
   "nbconvert_exporter": "python",
   "pygments_lexer": "ipython3",
   "version": "3.11.5"
  }
 },
 "nbformat": 4,
 "nbformat_minor": 2
}
