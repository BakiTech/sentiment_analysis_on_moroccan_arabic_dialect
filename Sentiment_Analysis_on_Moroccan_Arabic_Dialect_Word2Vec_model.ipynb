{
 "cells": [
  {
   "cell_type": "code",
   "execution_count": 13,
   "metadata": {},
   "outputs": [],
   "source": [
    "import numpy as np\n",
    "import pandas as pd"
   ]
  },
  {
   "cell_type": "code",
   "execution_count": 14,
   "metadata": {},
   "outputs": [],
   "source": [
    "data1 = pd.read_csv( 'train.csv')\n",
    "\n",
    "data2 = pd.read_csv( 'comments.csv')\n",
    "\n",
    "data3 = pd.read_csv( 'comments2.csv')\n",
    "\n",
    "data4 = pd.read_csv( 'ar_reviews_100k.csv', delimiter='\\t')\n",
    "\n",
    "data = pd.concat( ( data1, data2, data3, data4)).reset_index(drop=True)\n",
    "\n",
    "import sklearn\n",
    "data = sklearn.utils.shuffle( data)\n",
    "\n",
    "data = data.drop_duplicates(subset='comment', keep='first')\n",
    "\n",
    "X = data[ 'comment']"
   ]
  },
  {
   "cell_type": "code",
   "execution_count": 15,
   "metadata": {},
   "outputs": [
    {
     "name": "stdout",
     "output_type": "stream",
     "text": [
      "(104655,)\n"
     ]
    }
   ],
   "source": [
    "print( X.shape)"
   ]
  },
  {
   "cell_type": "code",
   "execution_count": 16,
   "metadata": {},
   "outputs": [
    {
     "name": "stderr",
     "output_type": "stream",
     "text": [
      "[nltk_data] Downloading package stopwords to\n",
      "[nltk_data]     C:\\Users\\aminb\\AppData\\Roaming\\nltk_data...\n",
      "[nltk_data]   Package stopwords is already up-to-date!\n"
     ]
    }
   ],
   "source": [
    "import nltk\n",
    "nltk.download('stopwords')\n",
    "\n",
    "from nltk.corpus import stopwords\n",
    "\n",
    "stop = set(stopwords.words('arabic'))"
   ]
  },
  {
   "cell_type": "code",
   "execution_count": 17,
   "metadata": {},
   "outputs": [],
   "source": [
    "import string\n",
    "\n",
    "punctuation = list(string.punctuation)\n",
    "stop.update(punctuation)"
   ]
  },
  {
   "cell_type": "code",
   "execution_count": 18,
   "metadata": {},
   "outputs": [],
   "source": [
    "import re\n",
    "from clean import wordopt\n",
    "\n",
    "def split_into_words(text):\n",
    "    words = text.split()\n",
    "    return words\n",
    "\n",
    "def remove_punctuation(words):\n",
    "    re_punc = re.compile('[%s]' % re.escape(string.punctuation))\n",
    "    stripped = [re_punc.sub('', w) for w in words]\n",
    "    return stripped\n",
    "\n",
    "def remove_stopwords(words):\n",
    "    stop_words = set(stopwords.words('arabic'))\n",
    "    words = [w for w in words if not w in stop_words]\n",
    "    return words\n",
    "\n",
    "def to_sentence(words):\n",
    "    return ' '.join(words)\n",
    "\n",
    "def denoise_text(text):\n",
    "    text = wordopt( text)\n",
    "    words = split_into_words(text)\n",
    "    words = remove_punctuation(words)\n",
    "    words = remove_stopwords(words)\n",
    "    return words"
   ]
  },
  {
   "cell_type": "code",
   "execution_count": 19,
   "metadata": {},
   "outputs": [],
   "source": [
    "vocabulary = X.apply( denoise_text)"
   ]
  },
  {
   "cell_type": "code",
   "execution_count": 20,
   "metadata": {},
   "outputs": [
    {
     "data": {
      "text/plain": [
       "16054            جيد. شكرا على حسن تعاونكم. الواي فاي ضعيف\n",
       "64368    لطيفة بس كل ما أحاول أستمتع بيها وأستحضر شكل و...\n",
       "92845    لم اتوقع هذا علي الاطلاق دخلت الفيلم لأري عبقر...\n",
       "85375         لا تحكم ع كتاب من غلافه .. خاب ظني كثيرا : .\n",
       "9251     كتاب مفيد جدا لدرجة تجعلك تتمناه في جيبك كل ال...\n",
       "                               ...                        \n",
       "7025     بصراحه تجربة تستحق التكرار مرة اخرى . الشقة كا...\n",
       "81281    مخيب للأمل. الموقع وسرعة الباصات. خدمات البوفي...\n",
       "82692               ثرثرة حمقاء. ورواية قوية. في نفس الوقت\n",
       "54634    لابأس به . موقع جيد. الفندق لايستحق نجوم في رأ...\n",
       "99183    مخيب للأمل. . السعر أعلى من حجم وامكانيات الفن...\n",
       "Name: comment, Length: 104655, dtype: object"
      ]
     },
     "execution_count": 20,
     "metadata": {},
     "output_type": "execute_result"
    }
   ],
   "source": [
    "X"
   ]
  },
  {
   "cell_type": "code",
   "execution_count": 21,
   "metadata": {},
   "outputs": [
    {
     "data": {
      "text/plain": [
       "16054            [جيد, شكرا, حسن, تعاونكم, واي, فاي, ضعيف]\n",
       "64368    [لطيفة, احاول, استمتع, بيها, واستحضر, شكل, ورو...\n",
       "92845    [اتوقع, علي, اطلاق, دخلت, فيلم, لاري, عبقرية, ...\n",
       "85375                        [تحكم, كتاب, غلافه, خاب, ظني]\n",
       "9251     [كتاب, مفيد, جدا, لدرجة, تجعلك, تتمناه, جيبك, ...\n",
       "                               ...                        \n",
       "7025     [بصراحه, تجربة, تستحق, تكرار, مرة, اخرى, شقة, ...\n",
       "81281    [مخيب, امل, موقع, وسرعة, باصات, خدمات, بوفيه, ...\n",
       "82692                     [ثرثرة, حمقا, ورواية, قوية, وقت]\n",
       "54634    [لاباس, موقع, جيد, فندق, لايستحق, نجوم, راي, ع...\n",
       "99183    [مخيب, امل, سعر, اعلى, حجم, وامكانيات, فندقالف...\n",
       "Name: comment, Length: 104655, dtype: object"
      ]
     },
     "execution_count": 21,
     "metadata": {},
     "output_type": "execute_result"
    }
   ],
   "source": [
    "vocabulary"
   ]
  },
  {
   "cell_type": "code",
   "execution_count": 22,
   "metadata": {},
   "outputs": [
    {
     "data": {
      "text/plain": [
       "['اوصي',\n",
       " 'منبر',\n",
       " 'توجه',\n",
       " 'مراكز',\n",
       " 'تلقيح',\n",
       " 'صدقوني',\n",
       " 'امر',\n",
       " 'مزحة',\n",
       " 'مرض',\n",
       " 'زكام',\n",
       " 'بالفعل',\n",
       " 'مرض',\n",
       " 'قاتل',\n",
       " 'ايضا',\n",
       " 'كنت',\n",
       " 'يريدون',\n",
       " 'لقاح',\n",
       " 'عندما',\n",
       " 'اصيب',\n",
       " 'زوج',\n",
       " 'اختى',\n",
       " 'وشاهدت',\n",
       " 'حالته',\n",
       " 'وصلت',\n",
       " 'موت',\n",
       " 'لكف',\n",
       " 'الله',\n",
       " 'لكان',\n",
       " 'مرحومين',\n",
       " 'وعمره',\n",
       " 'ثلاثينلا',\n",
       " 'تصدقوا',\n",
       " 'شائعات',\n",
       " 'حول',\n",
       " 'مرض',\n",
       " 'وانه',\n",
       " 'قاتل',\n",
       " 'ويصيب',\n",
       " 'فقط',\n",
       " 'عواجيز',\n",
       " 'كله',\n",
       " 'كذب',\n",
       " 'يصيبىاي',\n",
       " 'احد',\n",
       " 'ويقتل',\n",
       " 'اشد',\n",
       " 'ناس',\n",
       " 'قوةاتمنى',\n",
       " 'مغاربة',\n",
       " 'يقدموا',\n",
       " 'مصلحة',\n",
       " 'مجتمع',\n",
       " 'انانيتهم',\n",
       " 'وكفى',\n",
       " 'نشر',\n",
       " 'ترهات',\n",
       " 'وسخافات']"
      ]
     },
     "execution_count": 22,
     "metadata": {},
     "output_type": "execute_result"
    }
   ],
   "source": [
    "vocabulary.loc[0]"
   ]
  },
  {
   "cell_type": "code",
   "execution_count": 23,
   "metadata": {},
   "outputs": [],
   "source": [
    "import gensim\n",
    "\n",
    "w2v_model = gensim.models.Word2Vec(\n",
    "    window=10,\n",
    "    min_count=2,\n",
    "    workers=4,\n",
    ")"
   ]
  },
  {
   "cell_type": "code",
   "execution_count": 24,
   "metadata": {},
   "outputs": [],
   "source": [
    "w2v_model.build_vocab( vocabulary, progress_per=1000)"
   ]
  },
  {
   "cell_type": "code",
   "execution_count": 26,
   "metadata": {},
   "outputs": [
    {
     "data": {
      "text/plain": [
       "(382521676, 405687800)"
      ]
     },
     "execution_count": 26,
     "metadata": {},
     "output_type": "execute_result"
    }
   ],
   "source": [
    "w2v_model.train( vocabulary, total_examples=w2v_model.corpus_count, epochs=100)"
   ]
  },
  {
   "cell_type": "code",
   "execution_count": 27,
   "metadata": {},
   "outputs": [],
   "source": [
    "w2v_model.save(\"./word2vec-arabic.model\")"
   ]
  },
  {
   "cell_type": "code",
   "execution_count": 28,
   "metadata": {},
   "outputs": [
    {
     "data": {
      "text/plain": [
       "[('تلقيح', 0.8557243347167969),\n",
       " ('لقاحات', 0.7613672018051147),\n",
       " ('قاح', 0.6941816210746765),\n",
       " ('ملقحين', 0.6669356822967529),\n",
       " ('ملقح', 0.6631062030792236),\n",
       " ('فيروس', 0.6630459427833557),\n",
       " ('باللقاح', 0.6499715447425842),\n",
       " ('بالتلقيح', 0.6332268118858337),\n",
       " ('جرعتين', 0.6255894899368286),\n",
       " ('قاحات', 0.6170222163200378)]"
      ]
     },
     "execution_count": 28,
     "metadata": {},
     "output_type": "execute_result"
    }
   ],
   "source": [
    "w2v_model.wv.most_similar(\"لقاح\")"
   ]
  },
  {
   "cell_type": "code",
   "execution_count": 29,
   "metadata": {},
   "outputs": [
    {
     "data": {
      "text/plain": [
       "0.23614615"
      ]
     },
     "execution_count": 29,
     "metadata": {},
     "output_type": "execute_result"
    }
   ],
   "source": [
    "w2v_model.wv.similarity(w1=\"لقاح\", w2=\"مرض\")"
   ]
  },
  {
   "cell_type": "code",
   "execution_count": 30,
   "metadata": {},
   "outputs": [
    {
     "data": {
      "text/plain": [
       "0.16686115"
      ]
     },
     "execution_count": 30,
     "metadata": {},
     "output_type": "execute_result"
    }
   ],
   "source": [
    "w2v_model.wv.similarity(w1=\"لقاح\", w2=\"حرية\")"
   ]
  }
 ],
 "metadata": {
  "kernelspec": {
   "display_name": "base",
   "language": "python",
   "name": "python3"
  },
  "language_info": {
   "codemirror_mode": {
    "name": "ipython",
    "version": 3
   },
   "file_extension": ".py",
   "mimetype": "text/x-python",
   "name": "python",
   "nbconvert_exporter": "python",
   "pygments_lexer": "ipython3",
   "version": "3.11.5"
  }
 },
 "nbformat": 4,
 "nbformat_minor": 2
}
