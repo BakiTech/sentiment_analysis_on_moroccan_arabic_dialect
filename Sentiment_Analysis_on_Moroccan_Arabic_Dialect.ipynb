{
  "cells": [
    {
      "cell_type": "markdown",
      "metadata": {
        "id": "ruzwpFhhH2l_"
      },
      "source": [
        "# Installing Needed Libraries"
      ]
    },
    {
      "cell_type": "markdown",
      "metadata": {
        "id": "GQvgjTp4IERM"
      },
      "source": [
        "# Importing Needed Libraries"
      ]
    },
    {
      "cell_type": "markdown",
      "metadata": {
        "id": "A9hc3y7puFFp"
      },
      "source": [
        "# Loading Data"
      ]
    },
    {
      "cell_type": "code",
      "execution_count": 98,
      "metadata": {
        "id": "7FJ-pfrNxO-U"
      },
      "outputs": [],
      "source": [
        "import numpy as np\n",
        "import pandas as pd"
      ]
    },
    {
      "cell_type": "code",
      "execution_count": 121,
      "metadata": {
        "id": "bIty4sKkgQXQ"
      },
      "outputs": [],
      "source": [
        "data1 = pd.read_csv( 'train.csv')\n",
        "\n",
        "data2 = pd.read_csv( 'comments.csv')\n",
        "\n",
        "data3 = pd.read_csv( 'comments2.csv')\n",
        "\n",
        "data = pd.concat( ( data1, data2, data3))\n",
        "\n",
        "import sklearn\n",
        "data = sklearn.utils.shuffle( data)\n",
        "\n",
        "X = data[ 'comment']\n",
        "y = data[ 'label']"
      ]
    },
    {
      "cell_type": "markdown",
      "metadata": {
        "id": "FDP65AcmGmHY"
      },
      "source": [
        "# Exploring Data"
      ]
    },
    {
      "cell_type": "code",
      "execution_count": 122,
      "metadata": {
        "colab": {
          "base_uri": "https://localhost:8080/"
        },
        "id": "9FaNwaPhxYjw",
        "outputId": "ddcde811-6658-45c7-e527-ad106f55a1ac"
      },
      "outputs": [
        {
          "name": "stdout",
          "output_type": "stream",
          "text": [
            "(4425,) (4425,)\n"
          ]
        }
      ],
      "source": [
        "print( X.shape, y.shape)"
      ]
    },
    {
      "cell_type": "code",
      "execution_count": 123,
      "metadata": {
        "colab": {
          "base_uri": "https://localhost:8080/",
          "height": 466
        },
        "id": "6X8XjQWQwm1w",
        "outputId": "ce41b35d-f1b4-4eaf-844a-52cd7df296e4"
      },
      "outputs": [
        {
          "data": {
            "text/plain": [
              "<Axes: xlabel='label', ylabel='count'>"
            ]
          },
          "execution_count": 123,
          "metadata": {},
          "output_type": "execute_result"
        },
        {
          "data": {
            "image/png": "[encoded data removed]",
            "text/plain": [
              "<Figure size 640x480 with 1 Axes>"
            ]
          },
          "metadata": {},
          "output_type": "display_data"
        }
      ],
      "source": [
        "import seaborn as sns\n",
        "\n",
        "sns.countplot(x=y)"
      ]
    },
    {
      "cell_type": "markdown",
      "metadata": {
        "id": "q2kbz_2UxyBF"
      },
      "source": [
        "# Preprocessing"
      ]
    },
    {
      "cell_type": "code",
      "execution_count": 102,
      "metadata": {
        "colab": {
          "base_uri": "https://localhost:8080/"
        },
        "id": "UvltSvItyH_K",
        "outputId": "0546c0af-f2e2-40cf-91f3-7f64e0700202"
      },
      "outputs": [
        {
          "name": "stderr",
          "output_type": "stream",
          "text": [
            "[nltk_data] Downloading package stopwords to\n",
            "[nltk_data]     C:\\Users\\aminb\\AppData\\Roaming\\nltk_data...\n",
            "[nltk_data]   Package stopwords is already up-to-date!\n"
          ]
        }
      ],
      "source": [
        "import nltk\n",
        "nltk.download('stopwords')\n",
        "\n",
        "from nltk.corpus import stopwords\n",
        "\n",
        "stop = set(stopwords.words('arabic'))"
      ]
    },
    {
      "cell_type": "code",
      "execution_count": 103,
      "metadata": {
        "id": "WqhjrRjwyfwL"
      },
      "outputs": [],
      "source": [
        "import string\n",
        "\n",
        "punctuation = list(string.punctuation)\n",
        "stop.update(punctuation)"
      ]
    },
    {
      "cell_type": "code",
      "execution_count": 104,
      "metadata": {
        "id": "euA2kK3Vy7QW"
      },
      "outputs": [],
      "source": [
        "import re"
      ]
    },
    {
      "cell_type": "code",
      "execution_count": 105,
      "metadata": {
        "id": "Z0uGB3xSx-jn"
      },
      "outputs": [],
      "source": [
        "def split_into_words(text):\n",
        "    words = text.split()\n",
        "    return words\n",
        "\n",
        "def remove_punctuation(words):\n",
        "    re_punc = re.compile('[%s]' % re.escape(string.punctuation))\n",
        "    stripped = [re_punc.sub('', w) for w in words]\n",
        "    return stripped\n",
        "\n",
        "def remove_stopwords(words):\n",
        "    stop_words = set(stopwords.words('arabic'))\n",
        "    words = [w for w in words if not w in stop_words]\n",
        "    return words\n",
        "\n",
        "def to_sentence(words):\n",
        "    return ' '.join(words)\n",
        "\n",
        "def denoise_text(text):\n",
        "    words = split_into_words(text)\n",
        "    words = remove_punctuation(words)\n",
        "    words = remove_stopwords(words)\n",
        "    return to_sentence(words)"
      ]
    },
    {
      "cell_type": "code",
      "execution_count": 106,
      "metadata": {
        "colab": {
          "base_uri": "https://localhost:8080/"
        },
        "id": "wtQ6vaCCzSAd",
        "outputId": "bc86a697-a31c-40fe-f083-6cf0bcc24085"
      },
      "outputs": [
        {
          "data": {
            "text/plain": [
              "1166    والمسلسلات التركيه عندكوم الميزانية ديالها وال...\n",
              "714                  منظر راءع جمال بلادي الله يزيد يبارك\n",
              "86      خصنا نفهمو حاجة وحدة بلي رجعو جواز تلقيح ايجبا...\n",
              "485     اللقاح كايحقق نتائج، وكورونا مستمر الانتشار بش...\n",
              "860     وزير الصحة يقول تلقيح الساكنة المغربية كلها بن...\n",
              "                              ...                        \n",
              "906                   الحمد لله اغاثنا قدر بنيتنا التحتية\n",
              "268     الحياة صارت معقدة، والإجراءات الوقائية كاينش ت...\n",
              "1000    دولة اللصوص ملايير تنفق اجل تشجييع الفساد حساب...\n",
              "1625                                    التلقيح حتا القبر\n",
              "764     لازم الحرية الشخصية امور كهذه أصحاب الحساسية ع...\n",
              "Name: comment, Length: 4425, dtype: object"
            ]
          },
          "execution_count": 106,
          "metadata": {},
          "output_type": "execute_result"
        }
      ],
      "source": [
        "X.apply( denoise_text)"
      ]
    },
    {
      "cell_type": "code",
      "execution_count": 107,
      "metadata": {
        "colab": {
          "base_uri": "https://localhost:8080/"
        },
        "id": "InYpHYIBrfQQ",
        "outputId": "9e252bd6-43ef-4d76-f8d4-27e6cb470840"
      },
      "outputs": [
        {
          "name": "stderr",
          "output_type": "stream",
          "text": [
            "The `xla_device` argument has been deprecated in v4.4.0 of Transformers. It is ignored and you can safely remove it from your `config.json` file.\n",
            "The `xla_device` argument has been deprecated in v4.4.0 of Transformers. It is ignored and you can safely remove it from your `config.json` file.\n",
            "The `xla_device` argument has been deprecated in v4.4.0 of Transformers. It is ignored and you can safely remove it from your `config.json` file.\n",
            "Some weights of BertModel were not initialized from the model checkpoint at DarijaBERT and are newly initialized: ['bert.pooler.dense.bias', 'bert.pooler.dense.weight']\n",
            "You should probably TRAIN this model on a down-stream task to be able to use it for predictions and inference.\n"
          ]
        }
      ],
      "source": [
        "#!git lfs install\n",
        "#!git clone https://huggingface.co/SI2M-Lab/DarijaBERT\n",
        "\n",
        "from transformers import AutoTokenizer, AutoModel\n",
        "\n",
        "DarijaBERT_tokenizer = AutoTokenizer.from_pretrained(\"DarijaBERT\")\n",
        "DarijaBert_model = AutoModel.from_pretrained(\"DarijaBERT\")"
      ]
    },
    {
      "cell_type": "code",
      "execution_count": 108,
      "metadata": {
        "colab": {
          "base_uri": "https://localhost:8080/"
        },
        "id": "uCBNLzTlrc3b",
        "outputId": "979b7253-fc23-4489-811b-8c3b81c21007"
      },
      "outputs": [
        {
          "data": {
            "text/plain": [
              "80001"
            ]
          },
          "execution_count": 108,
          "metadata": {},
          "output_type": "execute_result"
        }
      ],
      "source": [
        "X_tokens = DarijaBERT_tokenizer( list( X), truncation=True, padding=True, return_tensors=\"np\", max_length=128)\n",
        "word_index = DarijaBERT_tokenizer.get_vocab()\n",
        "VOCAB_SIZE = len(word_index) + 1\n",
        "VOCAB_SIZE"
      ]
    },
    {
      "cell_type": "code",
      "execution_count": 109,
      "metadata": {
        "id": "0UARB1Firhw-"
      },
      "outputs": [],
      "source": [
        "maxlen = max([len(x) for x in X])\n",
        "maxlen = 128"
      ]
    },
    {
      "cell_type": "code",
      "execution_count": 110,
      "metadata": {
        "colab": {
          "base_uri": "https://localhost:8080/"
        },
        "id": "ml1U8P4grvTg",
        "outputId": "a8a9335e-38fd-468f-a062-6518cddaf918"
      },
      "outputs": [
        {
          "data": {
            "text/plain": [
              "3"
            ]
          },
          "execution_count": 110,
          "metadata": {},
          "output_type": "execute_result"
        }
      ],
      "source": [
        "DarijaBERT_tokenizer.add_tokens( list( X_tokens))"
      ]
    },
    {
      "cell_type": "code",
      "execution_count": 111,
      "metadata": {
        "id": "7TeIhfyP0VzB"
      },
      "outputs": [],
      "source": [
        "from sklearn.model_selection import train_test_split\n",
        "\n",
        "X_train, X_test, y_train, y_test = train_test_split( X, y, test_size=0.2, random_state=42, stratify = y)"
      ]
    },
    {
      "cell_type": "code",
      "execution_count": 112,
      "metadata": {
        "colab": {
          "base_uri": "https://localhost:8080/",
          "height": 466
        },
        "id": "wJ_c92G3_3ql",
        "outputId": "9351bb6a-878c-48d0-ac47-e307ec194db7"
      },
      "outputs": [
        {
          "data": {
            "text/plain": [
              "<Axes: xlabel='label', ylabel='count'>"
            ]
          },
          "execution_count": 112,
          "metadata": {},
          "output_type": "execute_result"
        },
        {
          "data": {
            "image/png": "[encoded data removed]",
            "text/plain": [
              "<Figure size 640x480 with 1 Axes>"
            ]
          },
          "metadata": {},
          "output_type": "display_data"
        }
      ],
      "source": [
        "sns.countplot( x=y_train)"
      ]
    },
    {
      "cell_type": "code",
      "execution_count": 113,
      "metadata": {
        "colab": {
          "base_uri": "https://localhost:8080/",
          "height": 466
        },
        "id": "XUVVUGHWpYEb",
        "outputId": "dafe0e13-476d-45c6-c63c-8d5d35e02240"
      },
      "outputs": [
        {
          "data": {
            "text/plain": [
              "<Axes: xlabel='label', ylabel='count'>"
            ]
          },
          "execution_count": 113,
          "metadata": {},
          "output_type": "execute_result"
        },
        {
          "data": {
            "image/png": "[encoded data removed]",
            "text/plain": [
              "<Figure size 640x480 with 1 Axes>"
            ]
          },
          "metadata": {},
          "output_type": "display_data"
        }
      ],
      "source": [
        "sns.countplot( x=y_test)"
      ]
    },
    {
      "cell_type": "code",
      "execution_count": 114,
      "metadata": {
        "id": "YIYYcyWx3bH4"
      },
      "outputs": [],
      "source": [
        "from tensorflow.keras.preprocessing.sequence import pad_sequences\n",
        "\n",
        "# Tokenize and encode the training sequences\n",
        "train_encodings = DarijaBERT_tokenizer( list( X_train), truncation=True, padding='max_length', max_length=maxlen)\n",
        "\n",
        "# Tokenize and encode the test sequences\n",
        "test_encodings = DarijaBERT_tokenizer( list( X_test), truncation=True, padding='max_length', max_length=maxlen)\n",
        "\n",
        "\n",
        "# Pad the sequences if needed (optional, depending on your requirements)\n",
        "train_padded_sequences = pad_sequences( train_encodings['input_ids'], maxlen=maxlen, padding='post', truncating='post')\n",
        "test_padded_sequences = pad_sequences( test_encodings['input_ids'], maxlen=maxlen, padding='post', truncating='post')"
      ]
    },
    {
      "cell_type": "code",
      "execution_count": 115,
      "metadata": {
        "colab": {
          "base_uri": "https://localhost:8080/"
        },
        "id": "lVNR0jJj4tSq",
        "outputId": "abc82d44-3d9a-4f3c-fea1-3d29adf7d096"
      },
      "outputs": [
        {
          "data": {
            "text/plain": [
              "128"
            ]
          },
          "execution_count": 115,
          "metadata": {},
          "output_type": "execute_result"
        }
      ],
      "source": [
        "len( train_padded_sequences[6])"
      ]
    },
    {
      "cell_type": "markdown",
      "metadata": {
        "id": "9oO6aroW45ai"
      },
      "source": [
        "# Data Modeling"
      ]
    },
    {
      "cell_type": "code",
      "execution_count": 116,
      "metadata": {
        "id": "lOyJ1o9146ro"
      },
      "outputs": [],
      "source": [
        "embedding_dim = 64"
      ]
    },
    {
      "cell_type": "code",
      "execution_count": 117,
      "metadata": {
        "id": "r0HcGNCK-EOD"
      },
      "outputs": [],
      "source": [
        "from keras.callbacks import EarlyStopping,ReduceLROnPlateau,ModelCheckpoint\n",
        "\n",
        "EarlyStopping = EarlyStopping(monitor='val_loss', \n",
        "                                patience=3, \n",
        "                                restore_best_weights=True)\n"
      ]
    },
    {
      "cell_type": "code",
      "execution_count": 118,
      "metadata": {
        "id": "hWckbh1Z-GBi"
      },
      "outputs": [],
      "source": [
        "model_save = ModelCheckpoint('best_model_27_11.keras',\n",
        "                             save_best_only = True,\n",
        "                             save_weights_only = False,\n",
        "                             monitor = 'val_loss',\n",
        "                             mode = 'min', verbose= 1)"
      ]
    },
    {
      "cell_type": "code",
      "execution_count": 119,
      "metadata": {
        "id": "0q3pgjiA-Hzw"
      },
      "outputs": [],
      "source": [
        "rlr = ReduceLROnPlateau( monitor=\"val_accuracy\",\n",
        "                            factor=0.01,\n",
        "                            patience=5,\n",
        "                            verbose=0,\n",
        "                            mode=\"max\",\n",
        "                            min_delta=0.0001)"
      ]
    },
    {
      "cell_type": "code",
      "execution_count": 125,
      "metadata": {
        "id": "-PwIRWVz492N"
      },
      "outputs": [],
      "source": [
        "import tensorflow as tf\n",
        "\n",
        "embedding_matrix = DarijaBert_model.embeddings.word_embeddings.weight.detach().numpy()\n",
        "\n",
        "model = tf.keras.Sequential([\n",
        "        tf.keras.layers.Embedding(VOCAB_SIZE-1, embedding_matrix.shape[1], weights=[embedding_matrix], input_length=maxlen, trainable=True),\n",
        "        tf.keras.layers.Bidirectional(tf.keras.layers.LSTM(16)),\n",
        "        tf.keras.layers.Flatten(),\n",
        "        tf.keras.layers.BatchNormalization(),\n",
        "        tf.keras.layers.Dropout(0.50),\n",
        "        tf.keras.layers.Dense( embedding_dim, activation='relu'),\n",
        "        tf.keras.layers.BatchNormalization(),\n",
        "        tf.keras.layers.Dropout(0.30),\n",
        "        tf.keras.layers.Dense(8,activation='relu'),\n",
        "        tf.keras.layers.Dense(1,activation='sigmoid'),\n",
        "    ])\n",
        "\n",
        "model.compile(loss = 'binary_crossentropy', optimizer = tf.keras.optimizers.Adam( learning_rate=0.0001), metrics = ['accuracy'])"
      ]
    },
    {
      "cell_type": "code",
      "execution_count": 126,
      "metadata": {
        "colab": {
          "base_uri": "https://localhost:8080/"
        },
        "id": "JHl-Wrxp5JFc",
        "outputId": "c9a37fb4-c81d-4b74-91f2-6682fa0a0e4d"
      },
      "outputs": [
        {
          "name": "stdout",
          "output_type": "stream",
          "text": [
            "Model: \"sequential_5\"\n",
            "_________________________________________________________________\n",
            " Layer (type)                Output Shape              Param #   \n",
            "=================================================================\n",
            " embedding_5 (Embedding)     (None, 128, 768)          61440000  \n",
            "                                                                 \n",
            " bidirectional_5 (Bidirecti  (None, 32)                100480    \n",
            " onal)                                                           \n",
            "                                                                 \n",
            " flatten_5 (Flatten)         (None, 32)                0         \n",
            "                                                                 \n",
            " batch_normalization_10 (Ba  (None, 32)                128       \n",
            " tchNormalization)                                               \n",
            "                                                                 \n",
            " dropout_10 (Dropout)        (None, 32)                0         \n",
            "                                                                 \n",
            " dense_15 (Dense)            (None, 64)                2112      \n",
            "                                                                 \n",
            " batch_normalization_11 (Ba  (None, 64)                256       \n",
            " tchNormalization)                                               \n",
            "                                                                 \n",
            " dropout_11 (Dropout)        (None, 64)                0         \n",
            "                                                                 \n",
            " dense_16 (Dense)            (None, 8)                 520       \n",
            "                                                                 \n",
            " dense_17 (Dense)            (None, 1)                 9         \n",
            "                                                                 \n",
            "=================================================================\n",
            "Total params: 61543505 (234.77 MB)\n",
            "Trainable params: 61543313 (234.77 MB)\n",
            "Non-trainable params: 192 (768.00 Byte)\n",
            "_________________________________________________________________\n"
          ]
        }
      ],
      "source": [
        "model.summary()"
      ]
    },
    {
      "cell_type": "code",
      "execution_count": 127,
      "metadata": {
        "colab": {
          "base_uri": "https://localhost:8080/"
        },
        "id": "Waj1Racg5NPN",
        "outputId": "031d9684-4dc1-43d2-e76a-a5b9398a4b7d"
      },
      "outputs": [
        {
          "name": "stdout",
          "output_type": "stream",
          "text": [
            "Epoch 1/50\n",
            "78/78 [==============================] - ETA: 0s - loss: 0.8741 - accuracy: 0.5210\n",
            "Epoch 1: val_loss improved from inf to 0.68900, saving model to best_model_27_11.keras\n",
            "78/78 [==============================] - 90s 1s/step - loss: 0.8741 - accuracy: 0.5210 - val_loss: 0.6890 - val_accuracy: 0.5198 - lr: 1.0000e-04\n",
            "Epoch 2/50\n",
            "78/78 [==============================] - ETA: 0s - loss: 0.7674 - accuracy: 0.5597\n",
            "Epoch 2: val_loss improved from 0.68900 to 0.68294, saving model to best_model_27_11.keras\n",
            "78/78 [==============================] - 78s 1s/step - loss: 0.7674 - accuracy: 0.5597 - val_loss: 0.6829 - val_accuracy: 0.5348 - lr: 1.0000e-04\n",
            "Epoch 3/50\n",
            "78/78 [==============================] - ETA: 0s - loss: 0.7039 - accuracy: 0.6029\n",
            "Epoch 3: val_loss improved from 0.68294 to 0.67262, saving model to best_model_27_11.keras\n",
            "78/78 [==============================] - 79s 1s/step - loss: 0.7039 - accuracy: 0.6029 - val_loss: 0.6726 - val_accuracy: 0.5527 - lr: 1.0000e-04\n",
            "Epoch 4/50\n",
            "78/78 [==============================] - ETA: 0s - loss: 0.6287 - accuracy: 0.6469\n",
            "Epoch 4: val_loss improved from 0.67262 to 0.65357, saving model to best_model_27_11.keras\n",
            "78/78 [==============================] - 81s 1s/step - loss: 0.6287 - accuracy: 0.6469 - val_loss: 0.6536 - val_accuracy: 0.6855 - lr: 1.0000e-04\n",
            "Epoch 5/50\n",
            "78/78 [==============================] - ETA: 0s - loss: 0.5752 - accuracy: 0.6961\n",
            "Epoch 5: val_loss improved from 0.65357 to 0.62665, saving model to best_model_27_11.keras\n",
            "78/78 [==============================] - 87s 1s/step - loss: 0.5752 - accuracy: 0.6961 - val_loss: 0.6267 - val_accuracy: 0.6648 - lr: 1.0000e-04\n",
            "Epoch 6/50\n",
            "78/78 [==============================] - ETA: 0s - loss: 0.5273 - accuracy: 0.7296\n",
            "Epoch 6: val_loss improved from 0.62665 to 0.59517, saving model to best_model_27_11.keras\n",
            "78/78 [==============================] - 70s 894ms/step - loss: 0.5273 - accuracy: 0.7296 - val_loss: 0.5952 - val_accuracy: 0.6987 - lr: 1.0000e-04\n",
            "Epoch 7/50\n",
            "78/78 [==============================] - ETA: 0s - loss: 0.4771 - accuracy: 0.7611\n",
            "Epoch 7: val_loss improved from 0.59517 to 0.55264, saving model to best_model_27_11.keras\n",
            "78/78 [==============================] - 81s 1s/step - loss: 0.4771 - accuracy: 0.7611 - val_loss: 0.5526 - val_accuracy: 0.7185 - lr: 1.0000e-04\n",
            "Epoch 8/50\n",
            "78/78 [==============================] - ETA: 0s - loss: 0.4115 - accuracy: 0.8160\n",
            "Epoch 8: val_loss improved from 0.55264 to 0.54362, saving model to best_model_27_11.keras\n",
            "78/78 [==============================] - 83s 1s/step - loss: 0.4115 - accuracy: 0.8160 - val_loss: 0.5436 - val_accuracy: 0.7298 - lr: 1.0000e-04\n",
            "Epoch 9/50\n",
            "78/78 [==============================] - ETA: 0s - loss: 0.3690 - accuracy: 0.8370\n",
            "Epoch 9: val_loss improved from 0.54362 to 0.52359, saving model to best_model_27_11.keras\n",
            "78/78 [==============================] - 82s 1s/step - loss: 0.3690 - accuracy: 0.8370 - val_loss: 0.5236 - val_accuracy: 0.7232 - lr: 1.0000e-04\n",
            "Epoch 10/50\n",
            "78/78 [==============================] - ETA: 0s - loss: 0.3222 - accuracy: 0.8773\n",
            "Epoch 10: val_loss improved from 0.52359 to 0.51084, saving model to best_model_27_11.keras\n",
            "78/78 [==============================] - 81s 1s/step - loss: 0.3222 - accuracy: 0.8773 - val_loss: 0.5108 - val_accuracy: 0.7298 - lr: 1.0000e-04\n",
            "Epoch 11/50\n",
            "78/78 [==============================] - ETA: 0s - loss: 0.2786 - accuracy: 0.9048\n",
            "Epoch 11: val_loss did not improve from 0.51084\n",
            "78/78 [==============================] - 80s 1s/step - loss: 0.2786 - accuracy: 0.9048 - val_loss: 0.5177 - val_accuracy: 0.7279 - lr: 1.0000e-04\n",
            "Epoch 12/50\n",
            "78/78 [==============================] - ETA: 0s - loss: 0.2428 - accuracy: 0.9136\n",
            "Epoch 12: val_loss did not improve from 0.51084\n",
            "78/78 [==============================] - 77s 982ms/step - loss: 0.2428 - accuracy: 0.9136 - val_loss: 0.5445 - val_accuracy: 0.7279 - lr: 1.0000e-04\n",
            "Epoch 13/50\n",
            "78/78 [==============================] - ETA: 0s - loss: 0.2144 - accuracy: 0.9334\n",
            "Epoch 13: val_loss did not improve from 0.51084\n",
            "78/78 [==============================] - 74s 946ms/step - loss: 0.2144 - accuracy: 0.9334 - val_loss: 0.5453 - val_accuracy: 0.7420 - lr: 1.0000e-04\n"
          ]
        }
      ],
      "source": [
        "from tensorflow.keras.models import load_model\n",
        "\n",
        "\n",
        "history = model.fit( train_padded_sequences, y_train,\n",
        "                       validation_split=0.3,\n",
        "                       epochs = 50,\n",
        "                       batch_size= 32,\n",
        "                       callbacks=[ EarlyStopping, model_save, rlr])"
      ]
    },
    {
      "cell_type": "code",
      "execution_count": null,
      "metadata": {
        "colab": {
          "base_uri": "https://localhost:8080/"
        },
        "id": "KiYC5Hi75R0Y",
        "outputId": "19ac6365-f4ce-41fd-c75c-d20603ac0f3a"
      },
      "outputs": [
        {
          "ename": "KeyError",
          "evalue": "99",
          "output_type": "error",
          "traceback": [
            "\u001b[1;31m---------------------------------------------------------------------------\u001b[0m",
            "\u001b[1;31mKeyError\u001b[0m                                  Traceback (most recent call last)",
            "File \u001b[1;32mc:\\Users\\aminb\\anaconda3\\Lib\\site-packages\\pandas\\core\\indexes\\base.py:3653\u001b[0m, in \u001b[0;36mIndex.get_loc\u001b[1;34m(self, key)\u001b[0m\n\u001b[0;32m   3652\u001b[0m \u001b[39mtry\u001b[39;00m:\n\u001b[1;32m-> 3653\u001b[0m     \u001b[39mreturn\u001b[39;00m \u001b[39mself\u001b[39m\u001b[39m.\u001b[39m_engine\u001b[39m.\u001b[39mget_loc(casted_key)\n\u001b[0;32m   3654\u001b[0m \u001b[39mexcept\u001b[39;00m \u001b[39mKeyError\u001b[39;00m \u001b[39mas\u001b[39;00m err:\n",
            "File \u001b[1;32mc:\\Users\\aminb\\anaconda3\\Lib\\site-packages\\pandas\\_libs\\index.pyx:147\u001b[0m, in \u001b[0;36mpandas._libs.index.IndexEngine.get_loc\u001b[1;34m()\u001b[0m\n",
            "File \u001b[1;32mc:\\Users\\aminb\\anaconda3\\Lib\\site-packages\\pandas\\_libs\\index.pyx:171\u001b[0m, in \u001b[0;36mpandas._libs.index.IndexEngine.get_loc\u001b[1;34m()\u001b[0m\n",
            "File \u001b[1;32mc:\\Users\\aminb\\anaconda3\\Lib\\site-packages\\pandas\\_libs\\index.pyx:214\u001b[0m, in \u001b[0;36mpandas._libs.index.IndexEngine._get_loc_duplicates\u001b[1;34m()\u001b[0m\n",
            "File \u001b[1;32mc:\\Users\\aminb\\anaconda3\\Lib\\site-packages\\pandas\\_libs\\index.pyx:222\u001b[0m, in \u001b[0;36mpandas._libs.index.IndexEngine._maybe_get_bool_indexer\u001b[1;34m()\u001b[0m\n",
            "File \u001b[1;32mc:\\Users\\aminb\\anaconda3\\Lib\\site-packages\\pandas\\_libs\\index.pyx:114\u001b[0m, in \u001b[0;36mpandas._libs.index._unpack_bool_indexer\u001b[1;34m()\u001b[0m\n",
            "\u001b[1;31mKeyError\u001b[0m: 99",
            "\nThe above exception was the direct cause of the following exception:\n",
            "\u001b[1;31mKeyError\u001b[0m                                  Traceback (most recent call last)",
            "\u001b[1;32mc:\\Users\\aminb\\Desktop\\EID2\\Web Mining\\Sentiment Analysis on Moroccan Arabic Dialect\\Sentiment_Analysis_on_Moroccan_Arabic_Dialect.ipynb Cell 32\u001b[0m line \u001b[0;36m1\n\u001b[1;32m----> <a href='vscode-notebook-cell:/c%3A/Users/aminb/Desktop/EID2/Web%20Mining/Sentiment%20Analysis%20on%20Moroccan%20Arabic%20Dialect/Sentiment_Analysis_on_Moroccan_Arabic_Dialect.ipynb#X43sZmlsZQ%3D%3D?line=0'>1</a>\u001b[0m \u001b[39mprint\u001b[39m( X_test\u001b[39m.\u001b[39miloc[\u001b[39m99\u001b[39m],\u001b[39m'\u001b[39m\u001b[39mlabel: ;\u001b[39m\u001b[39m'\u001b[39m,y_test[\u001b[39m99\u001b[39m])\n",
            "File \u001b[1;32mc:\\Users\\aminb\\anaconda3\\Lib\\site-packages\\pandas\\core\\series.py:1007\u001b[0m, in \u001b[0;36mSeries.__getitem__\u001b[1;34m(self, key)\u001b[0m\n\u001b[0;32m   1004\u001b[0m     \u001b[39mreturn\u001b[39;00m \u001b[39mself\u001b[39m\u001b[39m.\u001b[39m_values[key]\n\u001b[0;32m   1006\u001b[0m \u001b[39melif\u001b[39;00m key_is_scalar:\n\u001b[1;32m-> 1007\u001b[0m     \u001b[39mreturn\u001b[39;00m \u001b[39mself\u001b[39m\u001b[39m.\u001b[39m_get_value(key)\n\u001b[0;32m   1009\u001b[0m \u001b[39mif\u001b[39;00m is_hashable(key):\n\u001b[0;32m   1010\u001b[0m     \u001b[39m# Otherwise index.get_value will raise InvalidIndexError\u001b[39;00m\n\u001b[0;32m   1011\u001b[0m     \u001b[39mtry\u001b[39;00m:\n\u001b[0;32m   1012\u001b[0m         \u001b[39m# For labels that don't resolve as scalars like tuples and frozensets\u001b[39;00m\n",
            "File \u001b[1;32mc:\\Users\\aminb\\anaconda3\\Lib\\site-packages\\pandas\\core\\series.py:1116\u001b[0m, in \u001b[0;36mSeries._get_value\u001b[1;34m(self, label, takeable)\u001b[0m\n\u001b[0;32m   1113\u001b[0m     \u001b[39mreturn\u001b[39;00m \u001b[39mself\u001b[39m\u001b[39m.\u001b[39m_values[label]\n\u001b[0;32m   1115\u001b[0m \u001b[39m# Similar to Index.get_value, but we do not fall back to positional\u001b[39;00m\n\u001b[1;32m-> 1116\u001b[0m loc \u001b[39m=\u001b[39m \u001b[39mself\u001b[39m\u001b[39m.\u001b[39mindex\u001b[39m.\u001b[39mget_loc(label)\n\u001b[0;32m   1118\u001b[0m \u001b[39mif\u001b[39;00m is_integer(loc):\n\u001b[0;32m   1119\u001b[0m     \u001b[39mreturn\u001b[39;00m \u001b[39mself\u001b[39m\u001b[39m.\u001b[39m_values[loc]\n",
            "File \u001b[1;32mc:\\Users\\aminb\\anaconda3\\Lib\\site-packages\\pandas\\core\\indexes\\base.py:3655\u001b[0m, in \u001b[0;36mIndex.get_loc\u001b[1;34m(self, key)\u001b[0m\n\u001b[0;32m   3653\u001b[0m     \u001b[39mreturn\u001b[39;00m \u001b[39mself\u001b[39m\u001b[39m.\u001b[39m_engine\u001b[39m.\u001b[39mget_loc(casted_key)\n\u001b[0;32m   3654\u001b[0m \u001b[39mexcept\u001b[39;00m \u001b[39mKeyError\u001b[39;00m \u001b[39mas\u001b[39;00m err:\n\u001b[1;32m-> 3655\u001b[0m     \u001b[39mraise\u001b[39;00m \u001b[39mKeyError\u001b[39;00m(key) \u001b[39mfrom\u001b[39;00m \u001b[39merr\u001b[39;00m\n\u001b[0;32m   3656\u001b[0m \u001b[39mexcept\u001b[39;00m \u001b[39mTypeError\u001b[39;00m:\n\u001b[0;32m   3657\u001b[0m     \u001b[39m# If we have a listlike key, _check_indexing_error will raise\u001b[39;00m\n\u001b[0;32m   3658\u001b[0m     \u001b[39m#  InvalidIndexError. Otherwise we fall through and re-raise\u001b[39;00m\n\u001b[0;32m   3659\u001b[0m     \u001b[39m#  the TypeError.\u001b[39;00m\n\u001b[0;32m   3660\u001b[0m     \u001b[39mself\u001b[39m\u001b[39m.\u001b[39m_check_indexing_error(key)\n",
            "\u001b[1;31mKeyError\u001b[0m: 99"
          ]
        }
      ],
      "source": [
        "print( X_test.iloc[99],'label: ;',y_test[99])"
      ]
    },
    {
      "cell_type": "code",
      "execution_count": null,
      "metadata": {
        "colab": {
          "base_uri": "https://localhost:8080/",
          "height": 881
        },
        "id": "M2KlUgO75VG_",
        "outputId": "feb30dd3-0f00-43ee-d549-e32ff4311f93"
      },
      "outputs": [
        {
          "data": {
            "image/png": "[encoded data removed]",
            "text/plain": [
              "<Figure size 640x480 with 1 Axes>"
            ]
          },
          "metadata": {},
          "output_type": "display_data"
        },
        {
          "data": {
            "image/png": "[encoded data removed]",
            "text/plain": [
              "<Figure size 640x480 with 1 Axes>"
            ]
          },
          "metadata": {},
          "output_type": "display_data"
        }
      ],
      "source": [
        "import matplotlib.pyplot as plt\n",
        "\n",
        "# Plot utility\n",
        "def plot_graphs(model, string):\n",
        "    plt.plot(model.history[string])\n",
        "    plt.plot(model.history['val_'+string])\n",
        "    plt.xlabel(\"Epochs\")\n",
        "    plt.ylabel(string)\n",
        "    plt.legend([string, 'val_'+string])\n",
        "    plt.show()\n",
        "\n",
        "# Plot the accuracy and loss\n",
        "plot_graphs(history, \"accuracy\")\n",
        "plot_graphs(history, \"loss\")"
      ]
    },
    {
      "cell_type": "code",
      "execution_count": null,
      "metadata": {
        "colab": {
          "base_uri": "https://localhost:8080/"
        },
        "id": "q7aIn_CY53X5",
        "outputId": "f0763fc7-bd1e-4212-8072-0dbbab7dd6c9"
      },
      "outputs": [
        {
          "name": "stdout",
          "output_type": "stream",
          "text": [
            "25/25 [==============================] - 2s 36ms/step\n"
          ]
        },
        {
          "data": {
            "image/png": "[encoded data removed]",
            "text/plain": [
              "<Figure size 640x480 with 2 Axes>"
            ]
          },
          "metadata": {},
          "output_type": "display_data"
        }
      ],
      "source": [
        "predicted_test = model.predict( test_padded_sequences)\n",
        "binary_predictions = (predicted_test > 0.5).astype(int)\n",
        "\n",
        "from sklearn.metrics import confusion_matrix\n",
        "\n",
        "cm = confusion_matrix( y_test, binary_predictions)\n",
        "\n",
        "import seaborn as sns\n",
        "import matplotlib.pyplot as plt\n",
        "\n",
        "sns.heatmap(cm,\n",
        "            annot=True,\n",
        "            fmt='g')\n",
        "plt.ylabel('Prediction',fontsize=13)\n",
        "plt.xlabel('Réelle',fontsize=13)\n",
        "plt.title('Matrice de confusion',fontsize=17)\n",
        "plt.show()"
      ]
    },
    {
      "cell_type": "code",
      "execution_count": null,
      "metadata": {
        "colab": {
          "base_uri": "https://localhost:8080/"
        },
        "id": "lz4Az1SQApM9",
        "outputId": "91dce391-84ef-4e76-c4aa-805bb02092a9"
      },
      "outputs": [
        {
          "ename": "NameError",
          "evalue": "name 'split_into_words' is not defined",
          "output_type": "error",
          "traceback": [
            "\u001b[1;31m---------------------------------------------------------------------------\u001b[0m",
            "\u001b[1;31mNameError\u001b[0m                                 Traceback (most recent call last)",
            "\u001b[1;32mc:\\Users\\aminb\\Desktop\\EID2\\Web Mining\\Sentiment Analysis on Moroccan Arabic Dialect\\Sentiment_Analysis_on_Moroccan_Arabic_Dialect.ipynb Cell 36\u001b[0m line \u001b[0;36m3\n\u001b[0;32m      <a href='vscode-notebook-cell:/c%3A/Users/aminb/Desktop/EID2/Web%20Mining/Sentiment%20Analysis%20on%20Moroccan%20Arabic%20Dialect/Sentiment_Analysis_on_Moroccan_Arabic_Dialect.ipynb#X50sZmlsZQ%3D%3D?line=0'>1</a>\u001b[0m new_comment \u001b[39m=\u001b[39m \u001b[39m\"\u001b[39m\u001b[39mلا لاجبارية التلقيح اولاد للل\u001b[39m\u001b[39m\"\u001b[39m\n\u001b[1;32m----> <a href='vscode-notebook-cell:/c%3A/Users/aminb/Desktop/EID2/Web%20Mining/Sentiment%20Analysis%20on%20Moroccan%20Arabic%20Dialect/Sentiment_Analysis_on_Moroccan_Arabic_Dialect.ipynb#X50sZmlsZQ%3D%3D?line=2'>3</a>\u001b[0m new_comment \u001b[39m=\u001b[39m split_into_words( new_comment)\n\u001b[0;32m      <a href='vscode-notebook-cell:/c%3A/Users/aminb/Desktop/EID2/Web%20Mining/Sentiment%20Analysis%20on%20Moroccan%20Arabic%20Dialect/Sentiment_Analysis_on_Moroccan_Arabic_Dialect.ipynb#X50sZmlsZQ%3D%3D?line=4'>5</a>\u001b[0m new_comment \u001b[39m=\u001b[39m remove_stopwords( new_comment)\n\u001b[0;32m      <a href='vscode-notebook-cell:/c%3A/Users/aminb/Desktop/EID2/Web%20Mining/Sentiment%20Analysis%20on%20Moroccan%20Arabic%20Dialect/Sentiment_Analysis_on_Moroccan_Arabic_Dialect.ipynb#X50sZmlsZQ%3D%3D?line=6'>7</a>\u001b[0m test_encoding \u001b[39m=\u001b[39m DarijaBERT_tokenizer(  new_comment, truncation\u001b[39m=\u001b[39m\u001b[39mTrue\u001b[39;00m, padding\u001b[39m=\u001b[39m\u001b[39m'\u001b[39m\u001b[39mmax_length\u001b[39m\u001b[39m'\u001b[39m, max_length\u001b[39m=\u001b[39mmaxlen)\n",
            "\u001b[1;31mNameError\u001b[0m: name 'split_into_words' is not defined"
          ]
        }
      ],
      "source": [
        "new_comment = \"لا لاجبارية التلقيح اولاد للل\"\n",
        "\n",
        "new_comment = split_into_words( new_comment)\n",
        "\n",
        "new_comment = remove_stopwords( new_comment)\n",
        "\n",
        "test_encoding = DarijaBERT_tokenizer(  new_comment, truncation=True, padding='max_length', max_length=maxlen)\n",
        "\n",
        "new_comment_padded = pad_sequences( test_encoding['input_ids'], maxlen=maxlen, padding='post', truncating='post')\n",
        "\n",
        "prediction = model.predict( new_comment_padded)\n",
        "predicted_sentiment = \"Positive\" if prediction[0] > 0.5 else \"Negative\"\n",
        "\n",
        "print(f\"Predicted Sentiment: {predicted_sentiment}, Confidence: {prediction[0][0]}\")"
      ]
    },
    {
      "cell_type": "code",
      "execution_count": null,
      "metadata": {},
      "outputs": [
        {
          "name": "stdout",
          "output_type": "stream",
          "text": [
            "WARNING:tensorflow:From c:\\Users\\aminb\\anaconda3\\Lib\\site-packages\\keras\\src\\backend.py:1398: The name tf.executing_eagerly_outside_functions is deprecated. Please use tf.compat.v1.executing_eagerly_outside_functions instead.\n",
            "\n",
            "WARNING:tensorflow:From c:\\Users\\aminb\\anaconda3\\Lib\\site-packages\\keras\\src\\optimizers\\__init__.py:309: The name tf.train.Optimizer is deprecated. Please use tf.compat.v1.train.Optimizer instead.\n",
            "\n"
          ]
        }
      ],
      "source": [
        "from tensorflow.keras.models import load_model\n",
        "\n",
        "the_model = load_model('best_model_26_11.keras')"
      ]
    },
    {
      "cell_type": "code",
      "execution_count": null,
      "metadata": {},
      "outputs": [
        {
          "name": "stdout",
          "output_type": "stream",
          "text": [
            "1/1 [==============================] - 0s 50ms/step\n",
            "Predicted Sentiment: Negative, Confidence: 0.4428183436393738\n"
          ]
        }
      ],
      "source": [
        "new_comment = \"لا لاجبارية التلقيح اولاد للل\"\n",
        "\n",
        "new_comment = split_into_words( new_comment)\n",
        "\n",
        "new_comment = remove_stopwords( new_comment)\n",
        "\n",
        "test_encoding = DarijaBERT_tokenizer(  new_comment, truncation=True, padding='max_length', max_length=maxlen)\n",
        "\n",
        "new_comment_padded = pad_sequences( test_encoding['input_ids'], maxlen=maxlen, padding='post', truncating='post')\n",
        "\n",
        "prediction = the_model.predict( new_comment_padded)\n",
        "predicted_sentiment = \"Positive\" if prediction[0] > 0.5 else \"Negative\"\n",
        "\n",
        "print(f\"Predicted Sentiment: {predicted_sentiment}, Confidence: {prediction[0][0]}\")"
      ]
    }
  ],
  "metadata": {
    "colab": {
      "provenance": []
    },
    "kernelspec": {
      "display_name": "Python 3",
      "name": "python3"
    },
    "language_info": {
      "codemirror_mode": {
        "name": "ipython",
        "version": 3
      },
      "file_extension": ".py",
      "mimetype": "text/x-python",
      "name": "python",
      "nbconvert_exporter": "python",
      "pygments_lexer": "ipython3",
      "version": "3.11.5"
    }
  },
  "nbformat": 4,
  "nbformat_minor": 0
}
